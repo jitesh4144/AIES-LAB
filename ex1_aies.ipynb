{
  "nbformat": 4,
  "nbformat_minor": 0,
  "metadata": {
    "colab": {
      "provenance": [],
      "include_colab_link": true
    },
    "kernelspec": {
      "name": "python3",
      "display_name": "Python 3"
    },
    "language_info": {
      "name": "python"
    }
  },
  "cells": [
    {
      "cell_type": "markdown",
      "metadata": {
        "id": "view-in-github",
        "colab_type": "text"
      },
      "source": [
        "<a href=\"https://colab.research.google.com/github/jitesh4144/AIES-LAB/blob/main/ex1_aies.ipynb\" target=\"_parent\"><img src=\"https://colab.research.google.com/assets/colab-badge.svg\" alt=\"Open In Colab\"/></a>"
      ]
    },
    {
      "cell_type": "code",
      "source": [
        "# 📦 Imports\n",
        "import pandas as pd\n",
        "import numpy as np\n",
        "import matplotlib.pyplot as plt\n",
        "from sklearn.model_selection import train_test_split\n",
        "from sklearn.linear_model import LogisticRegression\n",
        "from sklearn.metrics import accuracy_score\n",
        "from fairlearn.metrics import MetricFrame, selection_rate\n",
        "from fairlearn.reductions import ExponentiatedGradient, DemographicParity\n",
        "import warnings\n",
        "from sklearn.exceptions import ConvergenceWarning\n",
        "\n",
        "# 🚫 Suppress convergence warnings\n",
        "warnings.filterwarnings(\"ignore\", category=ConvergenceWarning)\n",
        "\n",
        "# 📥 Load dataset\n",
        "data = pd.read_csv(\"/content/german_credit_data.csv\")\n",
        "data = data.drop(columns=[\"Unnamed: 0\"], errors=\"ignore\")  # drop ID column if present\n",
        "\n",
        "# 🎯 Create binary target: good credit if Duration <= 24 months\n",
        "data[\"target\"] = np.where(data[\"Duration\"] <= 24, 1, 0)\n",
        "\n",
        "# 🧼 Drop missing values\n",
        "data = data.dropna()\n",
        "\n",
        "# 🔁 One-hot encode categorical variables\n",
        "data = pd.get_dummies(data, drop_first=True)\n",
        "\n",
        "# 📊 Features and label\n",
        "X = data.drop(columns=[\"target\"])\n",
        "y = data[\"target\"]\n",
        "\n",
        "# 🔍 Sensitive attribute: gender\n",
        "sensitive_feature = X[\"Sex_male\"]  # created from get_dummies\n",
        "\n",
        "# 🧪 Train-test split\n",
        "X_train, X_test, y_train, y_test, sf_train, sf_test = train_test_split(\n",
        "    X, y, sensitive_feature, test_size=0.3, random_state=42\n",
        ")\n",
        "\n",
        "# ⚙️ Baseline model\n",
        "model = LogisticRegression(max_iter=2000)\n",
        "model.fit(X_train, y_train)\n",
        "y_pred = model.predict(X_test)\n",
        "\n",
        "# 📏 Baseline fairness evaluation\n",
        "metric_frame = MetricFrame(\n",
        "    metrics={\"Selection Rate\": selection_rate, \"Accuracy\": accuracy_score},\n",
        "    y_true=y_test,\n",
        "    y_pred=y_pred,\n",
        "    sensitive_features=sf_test\n",
        ")\n",
        "\n",
        "# ✅ Minimal output\n",
        "print(\"Baseline Selection Rates by Gender (0 = female, 1 = male):\")\n",
        "print(metric_frame.by_group[\"Selection Rate\"])\n",
        "print(\"Baseline Accuracy:\", accuracy_score(y_test, y_pred))\n",
        "\n",
        "# 📊 Plot selection rate (baseline)\n",
        "sr = metric_frame.by_group[\"Selection Rate\"].to_dict()\n",
        "df_vis = pd.DataFrame(list(sr.items()), columns=[\"Gender (Sex_male)\", \"Selection Rate\"])\n",
        "plt.figure(figsize=(6, 4))\n",
        "bars = plt.bar(df_vis[\"Gender (Sex_male)\"].astype(str), df_vis[\"Selection Rate\"], color=[\"#ff9999\", \"#66b3ff\"])\n",
        "plt.title(\"Baseline Selection Rate by Gender\")\n",
        "plt.ylabel(\"Selection Rate\")\n",
        "plt.ylim(0, 1)\n",
        "for bar in bars:\n",
        "    yval = bar.get_height()\n",
        "    plt.text(bar.get_x() + bar.get_width()/2, yval + 0.02, f\"{yval:.2%}\", ha='center', va='bottom')\n",
        "plt.tight_layout()\n",
        "plt.show()\n",
        "\n",
        "# ⚖️ Fair model with Demographic Parity constraint\n",
        "fair_model = ExponentiatedGradient(\n",
        "    estimator=LogisticRegression(max_iter=2000),\n",
        "    constraints=DemographicParity(),\n",
        "    eps=0.01\n",
        ")\n",
        "fair_model.fit(X_train, y_train, sensitive_features=sf_train)\n",
        "y_pred_fair = fair_model.predict(X_test)\n",
        "\n",
        "# 📏 Fair model evaluation\n",
        "fair_metric_frame = MetricFrame(\n",
        "    metrics={\"Selection Rate\": selection_rate, \"Accuracy\": accuracy_score},\n",
        "    y_true=y_test,\n",
        "    y_pred=y_pred_fair,\n",
        "    sensitive_features=sf_test\n",
        ")\n",
        "\n",
        "# ✅ Minimal fair model output\n",
        "print(\"\\nFair Model Selection Rates by Gender (after fairness applied):\")\n",
        "print(fair_metric_frame.by_group[\"Selection Rate\"])\n",
        "print(\"Fair Model Accuracy:\", accuracy_score(y_test, y_pred_fair))\n"
      ],
      "metadata": {
        "colab": {
          "base_uri": "https://localhost:8080/",
          "height": 633
        },
        "id": "C-iRPuCI8uFG",
        "outputId": "c083577f-fc6f-4484-f66a-e58ee8dd078b"
      },
      "execution_count": null,
      "outputs": [
        {
          "output_type": "stream",
          "name": "stdout",
          "text": [
            "Baseline Selection Rates by Gender (0 = female, 1 = male):\n",
            "Sex_male\n",
            "False    0.786885\n",
            "True     0.687500\n",
            "Name: Selection Rate, dtype: float64\n",
            "Baseline Accuracy: 1.0\n"
          ]
        },
        {
          "output_type": "display_data",
          "data": {
            "text/plain": [
              "<Figure size 600x400 with 1 Axes>"
            ],
            "image/png": "[encoded data removed]"
          },
          "metadata": {}
        },
        {
          "output_type": "stream",
          "name": "stdout",
          "text": [
            "\n",
            "Fair Model Selection Rates by Gender (after fairness applied):\n",
            "Sex_male\n",
            "False    0.754098\n",
            "True     0.687500\n",
            "Name: Selection Rate, dtype: float64\n",
            "Fair Model Accuracy: 0.9872611464968153\n"
          ]
        }
      ]
    }
  ]
}