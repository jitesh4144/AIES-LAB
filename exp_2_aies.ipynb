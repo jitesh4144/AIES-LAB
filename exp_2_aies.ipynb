{
  "nbformat": 4,
  "nbformat_minor": 0,
  "metadata": {
    "colab": {
      "provenance": [],
      "include_colab_link": true
    },
    "kernelspec": {
      "name": "python3",
      "display_name": "Python 3"
    },
    "language_info": {
      "name": "python"
    }
  },
  "cells": [
    {
      "cell_type": "markdown",
      "metadata": {
        "id": "view-in-github",
        "colab_type": "text"
      },
      "source": [
        "<a href=\"https://colab.research.google.com/github/jitesh4144/AIES-LAB/blob/main/exp_2_aies.ipynb\" target=\"_parent\"><img src=\"https://colab.research.google.com/assets/colab-badge.svg\" alt=\"Open In Colab\"/></a>"
      ]
    },
    {
      "cell_type": "code",
      "execution_count": null,
      "metadata": {
        "colab": {
          "base_uri": "https://localhost:8080/"
        },
        "id": "Lj85ecJUe4jz",
        "outputId": "978026df-b1c1-4d7b-9afd-ef226ede5afd"
      },
      "outputs": [
        {
          "output_type": "stream",
          "name": "stdout",
          "text": [
            "Collecting fairlearn\n",
            "  Downloading fairlearn-0.12.0-py3-none-any.whl.metadata (7.0 kB)\n",
            "Requirement already satisfied: numpy>=1.24.4 in /usr/local/lib/python3.11/dist-packages (from fairlearn) (2.0.2)\n",
            "Requirement already satisfied: pandas>=2.0.3 in /usr/local/lib/python3.11/dist-packages (from fairlearn) (2.2.2)\n",
            "Requirement already satisfied: scikit-learn>=1.2.1 in /usr/local/lib/python3.11/dist-packages (from fairlearn) (1.6.1)\n",
            "Requirement already satisfied: scipy>=1.9.3 in /usr/local/lib/python3.11/dist-packages (from fairlearn) (1.16.0)\n",
            "Requirement already satisfied: python-dateutil>=2.8.2 in /usr/local/lib/python3.11/dist-packages (from pandas>=2.0.3->fairlearn) (2.9.0.post0)\n",
            "Requirement already satisfied: pytz>=2020.1 in /usr/local/lib/python3.11/dist-packages (from pandas>=2.0.3->fairlearn) (2025.2)\n",
            "Requirement already satisfied: tzdata>=2022.7 in /usr/local/lib/python3.11/dist-packages (from pandas>=2.0.3->fairlearn) (2025.2)\n",
            "Requirement already satisfied: joblib>=1.2.0 in /usr/local/lib/python3.11/dist-packages (from scikit-learn>=1.2.1->fairlearn) (1.5.1)\n",
            "Requirement already satisfied: threadpoolctl>=3.1.0 in /usr/local/lib/python3.11/dist-packages (from scikit-learn>=1.2.1->fairlearn) (3.6.0)\n",
            "Requirement already satisfied: six>=1.5 in /usr/local/lib/python3.11/dist-packages (from python-dateutil>=2.8.2->pandas>=2.0.3->fairlearn) (1.17.0)\n",
            "Downloading fairlearn-0.12.0-py3-none-any.whl (240 kB)\n",
            "\u001b[2K   \u001b[90m━━━━━━━━━━━━━━━━━━━━━━━━━━━━━━━━━━━━━━━━\u001b[0m \u001b[32m240.0/240.0 kB\u001b[0m \u001b[31m3.8 MB/s\u001b[0m eta \u001b[36m0:00:00\u001b[0m\n",
            "\u001b[?25hInstalling collected packages: fairlearn\n",
            "Successfully installed fairlearn-0.12.0\n"
          ]
        },
        {
          "output_type": "stream",
          "name": "stderr",
          "text": [
            "/usr/local/lib/python3.11/dist-packages/sklearn/linear_model/_logistic.py:465: ConvergenceWarning: lbfgs failed to converge (status=1):\n",
            "STOP: TOTAL NO. OF ITERATIONS REACHED LIMIT.\n",
            "\n",
            "Increase the number of iterations (max_iter) or scale the data as shown in:\n",
            "    https://scikit-learn.org/stable/modules/preprocessing.html\n",
            "Please also refer to the documentation for alternative solver options:\n",
            "    https://scikit-learn.org/stable/modules/linear_model.html#logistic-regression\n",
            "  n_iter_i = _check_optimize_result(\n"
          ]
        },
        {
          "output_type": "stream",
          "name": "stdout",
          "text": [
            "🎯 Fairness Metrics by Category:\n",
            "\n",
            "                  TPR       FPR       FNR  Selection Rate\n",
            "category                                                 \n",
            "GEN          0.978852  0.044332  0.021148        0.123748\n",
            "GEN-EWS      0.939302  0.010559  0.060698        0.428620\n",
            "GEN-EWS-PWD  1.000000  0.000000  0.000000        1.000000\n",
            "GEN-PWD      0.951197  0.020000  0.048803        0.910211\n",
            "OBC-NCL      0.989378  0.036268  0.010622        0.206392\n",
            "OBC-NCL-PWD  1.000000  0.000000  0.000000        1.000000\n",
            "SC           0.912835  0.052342  0.087165        0.397249\n",
            "SC-PWD       1.000000  0.000000  0.000000        1.000000\n",
            "ST           0.969094  0.061785  0.030906        0.724042\n",
            "ST-PWD       1.000000  0.000000  0.000000        1.000000\n",
            "\n",
            "🔍 Categories with significantly lower TPR than GEN:\n",
            " - SC: TPR = 0.913 (↓0.066)\n"
          ]
        }
      ],
      "source": [
        "!pip install fairlearn\n",
        "import pandas as pd\n",
        "import numpy as np\n",
        "from sklearn.model_selection import train_test_split\n",
        "from sklearn.linear_model import LogisticRegression\n",
        "from sklearn.preprocessing import LabelEncoder\n",
        "from fairlearn.metrics import MetricFrame, true_positive_rate, false_positive_rate, false_negative_rate, selection_rate\n",
        "\n",
        "# === Step 1: Load the data ===\n",
        "file_path = '/content/data.csv'  # Update path if needed\n",
        "df = pd.read_csv(file_path)\n",
        "\n",
        "# === Step 2: Clean and prepare ===\n",
        "df = df.dropna(subset=['closing_rank', 'category', 'program_duration', 'degree_short', 'institute_short', 'round_no', 'opening_rank'])\n",
        "\n",
        "# Target: Good Rank = closing_rank < 2000\n",
        "df['GoodRank'] = df['closing_rank'].apply(lambda x: 1 if x < 2000 else 0)\n",
        "\n",
        "# Sensitive attribute: category (GEN, OBC-NCL, SC, ST, etc.)\n",
        "sensitive_feature = df['category']\n",
        "\n",
        "# Features\n",
        "df_encoded = pd.get_dummies(df[['program_duration', 'degree_short', 'institute_short']], drop_first=True)\n",
        "df_numeric = df[['round_no', 'opening_rank']].copy()\n",
        "X = pd.concat([df_numeric, df_encoded], axis=1)\n",
        "y = df['GoodRank']\n",
        "\n",
        "# === Step 3: Train/Test Split ===\n",
        "X_train, X_test, y_train, y_test, s_train, s_test = train_test_split(\n",
        "    X, y, sensitive_feature, test_size=0.3, random_state=42, stratify=sensitive_feature\n",
        ")\n",
        "\n",
        "# === Step 4: Train model ===\n",
        "clf = LogisticRegression(max_iter=1000)\n",
        "clf.fit(X_train, y_train)\n",
        "y_pred = clf.predict(X_test)\n",
        "\n",
        "# === Step 5: Fairness Metrics (especially TPR) ===\n",
        "metric_frame = MetricFrame(\n",
        "    metrics={\n",
        "        'TPR': true_positive_rate,\n",
        "        'FPR': false_positive_rate,\n",
        "        'FNR': false_negative_rate,\n",
        "        'Selection Rate': selection_rate\n",
        "    },\n",
        "    y_true=y_test,\n",
        "    y_pred=y_pred,\n",
        "    sensitive_features=s_test\n",
        ")\n",
        "\n",
        "print(\"🎯 Fairness Metrics by Category:\\n\")\n",
        "print(metric_frame.by_group)\n",
        "\n",
        "# === Step 6: Highlight Lower TPR Groups ===\n",
        "gen_tpr = metric_frame.by_group.loc['GEN', 'TPR'] if 'GEN' in metric_frame.by_group.index else None\n",
        "if gen_tpr:\n",
        "    print(\"\\n🔍 Categories with significantly lower TPR than GEN:\")\n",
        "    for cat in metric_frame.by_group.index:\n",
        "        if cat != 'GEN':\n",
        "            cat_tpr = metric_frame.by_group.loc[cat, 'TPR']\n",
        "            gap = gen_tpr - cat_tpr\n",
        "            if gap > 0.05:  # flag if TPR is >5% lower than GEN\n",
        "                print(f\" - {cat}: TPR = {cat_tpr:.3f} (↓{gap:.3f})\")\n"
      ]
    }
  ]
}